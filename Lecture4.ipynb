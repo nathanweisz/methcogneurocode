{
 "cells": [
  {
   "cell_type": "markdown",
   "metadata": {},
   "source": [
    "# Representational Similarity Analysis"
   ]
  },
  {
   "cell_type": "markdown",
   "metadata": {},
   "source": [
    "Let's grab all necessary libraries."
   ]
  },
  {
   "cell_type": "code",
   "execution_count": 1,
   "metadata": {},
   "outputs": [],
   "source": [
    "from mne.decoding import SlidingEstimator, cross_val_multiscore\n",
    "from sklearn.preprocessing import StandardScaler\n",
    "from sklearn.discriminant_analysis import LinearDiscriminantAnalysis\n",
    "from sklearn.pipeline import make_pipeline\n",
    "\n",
    "import seaborn as sns #a nice library for (“publication-ready“) visualization\n",
    "import pandas as pd #a nice library for handling data frames\n",
    "import numpy as np\n",
    "import mne\n",
    "\n",
    "from scipy.stats import spearmanr\n",
    "\n",
    "import itertools\n",
    "import matplotlib.pyplot as plt"
   ]
  },
  {
   "cell_type": "markdown",
   "metadata": {},
   "source": [
    "## RSA Analysis - static"
   ]
  },
  {
   "cell_type": "markdown",
   "metadata": {},
   "source": [
    "We will take the MEG data with presentation of the four pure tone frequencies (200, 431, 928 and 2000 Hz)."
   ]
  },
  {
   "cell_type": "code",
   "execution_count": 2,
   "metadata": {},
   "outputs": [
    {
     "name": "stdout",
     "output_type": "stream",
     "text": [
      "Adding metadata with 3 columns\n",
      "2845 matching events found\n",
      "No baseline correction applied\n"
     ]
    }
   ],
   "source": [
    "# This is identical to the last lecture\n",
    "info = mne.io.read_info(\"sample-info.fif\", verbose = True)\n",
    "info = mne.Info(info, sfreq=100)\n",
    "\n",
    "#datapath = \"/Users/b1019548/Library/CloudStorage/OneDrive-UniversitätSalzburg/Teaching/Master_VO_MethodsCogNeuro/Lecture3_Decoding/data/dataset4nathan.mat\"\n",
    "datapath = \"/Users/b1019548/onedrive/Teaching/Master_VO_MethodsCogNeuro/Lectures/Lecture3_Decoding/data/dataset4nathan.mat\"\n",
    "\n",
    "epochs = mne.read_epochs_fieldtrip(datapath, info)\n",
    "\n",
    "epochs.event_id = {\n",
    "                    \"200Hz\": 16,\n",
    "                    \"431Hz\": 32,\n",
    "                    \"928Hz\": 64,\n",
    "                    \"2000Hz\": 128\n",
    "                }"
   ]
  },
  {
   "cell_type": "markdown",
   "metadata": {},
   "source": [
    "We have four frequencies, so in the end the RDMs will be a 4x4 matrix. The dissimilarity along the diagonal is 0 and the matrix is symmetric around the diagonal. So the dissimilarity needs to be only calculated once for each tone pair.\n",
    "\n",
    "We will use decoding to assess the dissimilarity: The better the decoding score, the more “dissimilar“ the patterns likely are.\n",
    "\n",
    "The following code builds an empty matrix to store the decoding results.\n",
    "\n",
    "Further, it creates an array (*ones_indices*) in which each row stores which conditions should be entered for pairwise decoding."
   ]
  },
  {
   "cell_type": "code",
   "execution_count": 3,
   "metadata": {},
   "outputs": [],
   "source": [
    "# make empty rdm mat and prepare all combos of decoding\n",
    "\n",
    "scoreMat = np.empty((4, 4))\n",
    "scoreMat[:] = np.nan\n",
    "\n",
    "# find combination of tone pairs in decoding \n",
    "vector = np.arange(0,4)\n",
    "combinations = np.array(list(itertools.product([0, 1], repeat=len(vector))))\n",
    "\n",
    "sums = np.sum(combinations, 1)\n",
    "ind2 = np.where(sums == 2)[0]\n",
    "combinations = combinations[ind2]\n",
    "\n",
    "ones_indices = []\n",
    "for row in combinations:\n",
    "    ones_indices.append(np.where(row == 1)[0])\n",
    "\n",
    "ones_indices = np.array(ones_indices)\n"
   ]
  },
  {
   "cell_type": "code",
   "execution_count": 4,
   "metadata": {},
   "outputs": [
    {
     "data": {
      "text/plain": [
       "array([[2, 3],\n",
       "       [1, 3],\n",
       "       [1, 2],\n",
       "       [0, 3],\n",
       "       [0, 2],\n",
       "       [0, 1]])"
      ]
     },
     "execution_count": 4,
     "metadata": {},
     "output_type": "execute_result"
    }
   ],
   "source": [
    "scoreMat\n",
    "ones_indices"
   ]
  },
  {
   "cell_type": "markdown",
   "metadata": {},
   "source": [
    "Now we will perform a decoding analysis using the code from last lecture, with 2 critical differences.\n",
    "1) We will perform pairwise decoding rather than entering all conditions at once. I.e. we will loop through *ones_indices* for that.\n",
    "2) We will enter all time points at once! For this we will reshape the MEG data such that the columns contain the 71 time points!"
   ]
  },
  {
   "cell_type": "code",
   "execution_count": 5,
   "metadata": {},
   "outputs": [
    {
     "data": {
      "application/vnd.jupyter.widget-view+json": {
       "model_id": "af5c8b59aef043c8a94a62ef7c8d749a",
       "version_major": 2,
       "version_minor": 0
      },
      "text/plain": [
       "  0%|          | Fitting SlidingEstimator : 0/1 [00:00<?,       ?it/s]"
      ]
     },
     "metadata": {},
     "output_type": "display_data"
    },
    {
     "data": {
      "application/vnd.jupyter.widget-view+json": {
       "model_id": "0fc87979b121486aa9bece453267a836",
       "version_major": 2,
       "version_minor": 0
      },
      "text/plain": [
       "  0%|          | Fitting SlidingEstimator : 0/1 [00:00<?,       ?it/s]"
      ]
     },
     "metadata": {},
     "output_type": "display_data"
    },
    {
     "data": {
      "application/vnd.jupyter.widget-view+json": {
       "model_id": "0f5c0c57fd24426894365b69397a3044",
       "version_major": 2,
       "version_minor": 0
      },
      "text/plain": [
       "  0%|          | Fitting SlidingEstimator : 0/1 [00:00<?,       ?it/s]"
      ]
     },
     "metadata": {},
     "output_type": "display_data"
    },
    {
     "data": {
      "application/vnd.jupyter.widget-view+json": {
       "model_id": "570f5cdf4c0f4db4a65c86f3f75d7f9a",
       "version_major": 2,
       "version_minor": 0
      },
      "text/plain": [
       "  0%|          | Fitting SlidingEstimator : 0/1 [00:00<?,       ?it/s]"
      ]
     },
     "metadata": {},
     "output_type": "display_data"
    },
    {
     "data": {
      "application/vnd.jupyter.widget-view+json": {
       "model_id": "d745960c6d6844cf9c76187ea2554644",
       "version_major": 2,
       "version_minor": 0
      },
      "text/plain": [
       "  0%|          | Fitting SlidingEstimator : 0/1 [00:00<?,       ?it/s]"
      ]
     },
     "metadata": {},
     "output_type": "display_data"
    },
    {
     "data": {
      "application/vnd.jupyter.widget-view+json": {
       "model_id": "850e5cf99609498b80a9e0699bb2da49",
       "version_major": 2,
       "version_minor": 0
      },
      "text/plain": [
       "  0%|          | Fitting SlidingEstimator : 0/1 [00:00<?,       ?it/s]"
      ]
     },
     "metadata": {},
     "output_type": "display_data"
    },
    {
     "data": {
      "application/vnd.jupyter.widget-view+json": {
       "model_id": "954495cdeb3e4770a1c9d8593289550d",
       "version_major": 2,
       "version_minor": 0
      },
      "text/plain": [
       "  0%|          | Fitting SlidingEstimator : 0/1 [00:00<?,       ?it/s]"
      ]
     },
     "metadata": {},
     "output_type": "display_data"
    },
    {
     "data": {
      "application/vnd.jupyter.widget-view+json": {
       "model_id": "8f0221bb48f543c09ec773a94d4260cc",
       "version_major": 2,
       "version_minor": 0
      },
      "text/plain": [
       "  0%|          | Fitting SlidingEstimator : 0/1 [00:00<?,       ?it/s]"
      ]
     },
     "metadata": {},
     "output_type": "display_data"
    },
    {
     "data": {
      "application/vnd.jupyter.widget-view+json": {
       "model_id": "6b9cdd1e8e504fa58634f3ccf98b7fff",
       "version_major": 2,
       "version_minor": 0
      },
      "text/plain": [
       "  0%|          | Fitting SlidingEstimator : 0/1 [00:00<?,       ?it/s]"
      ]
     },
     "metadata": {},
     "output_type": "display_data"
    },
    {
     "data": {
      "application/vnd.jupyter.widget-view+json": {
       "model_id": "5d9cbec4a8644334809e8ed9a684bda8",
       "version_major": 2,
       "version_minor": 0
      },
      "text/plain": [
       "  0%|          | Fitting SlidingEstimator : 0/1 [00:00<?,       ?it/s]"
      ]
     },
     "metadata": {},
     "output_type": "display_data"
    },
    {
     "data": {
      "application/vnd.jupyter.widget-view+json": {
       "model_id": "745adcf4d9b6458bbd6a2dd639ae661c",
       "version_major": 2,
       "version_minor": 0
      },
      "text/plain": [
       "  0%|          | Fitting SlidingEstimator : 0/1 [00:00<?,       ?it/s]"
      ]
     },
     "metadata": {},
     "output_type": "display_data"
    },
    {
     "data": {
      "application/vnd.jupyter.widget-view+json": {
       "model_id": "96253ed414a54f088f5cbc18e499eccc",
       "version_major": 2,
       "version_minor": 0
      },
      "text/plain": [
       "  0%|          | Fitting SlidingEstimator : 0/1 [00:00<?,       ?it/s]"
      ]
     },
     "metadata": {},
     "output_type": "display_data"
    },
    {
     "data": {
      "application/vnd.jupyter.widget-view+json": {
       "model_id": "726b46aa7592405d8a59b0338fab64de",
       "version_major": 2,
       "version_minor": 0
      },
      "text/plain": [
       "  0%|          | Fitting SlidingEstimator : 0/1 [00:00<?,       ?it/s]"
      ]
     },
     "metadata": {},
     "output_type": "display_data"
    },
    {
     "data": {
      "application/vnd.jupyter.widget-view+json": {
       "model_id": "26fca27a2f454dc4bcbfbb758b2cac3b",
       "version_major": 2,
       "version_minor": 0
      },
      "text/plain": [
       "  0%|          | Fitting SlidingEstimator : 0/1 [00:00<?,       ?it/s]"
      ]
     },
     "metadata": {},
     "output_type": "display_data"
    },
    {
     "data": {
      "application/vnd.jupyter.widget-view+json": {
       "model_id": "e5d31a486a4b4c1f9afd7aa28a4a678f",
       "version_major": 2,
       "version_minor": 0
      },
      "text/plain": [
       "  0%|          | Fitting SlidingEstimator : 0/1 [00:00<?,       ?it/s]"
      ]
     },
     "metadata": {},
     "output_type": "display_data"
    },
    {
     "data": {
      "application/vnd.jupyter.widget-view+json": {
       "model_id": "6821d70471c94d1987cbcb1e0122bc9c",
       "version_major": 2,
       "version_minor": 0
      },
      "text/plain": [
       "  0%|          | Fitting SlidingEstimator : 0/1 [00:00<?,       ?it/s]"
      ]
     },
     "metadata": {},
     "output_type": "display_data"
    },
    {
     "data": {
      "application/vnd.jupyter.widget-view+json": {
       "model_id": "1882d50efb4a4cab85203da2ce737165",
       "version_major": 2,
       "version_minor": 0
      },
      "text/plain": [
       "  0%|          | Fitting SlidingEstimator : 0/1 [00:00<?,       ?it/s]"
      ]
     },
     "metadata": {},
     "output_type": "display_data"
    },
    {
     "data": {
      "application/vnd.jupyter.widget-view+json": {
       "model_id": "040cc239dafa433eaf07525735cc9247",
       "version_major": 2,
       "version_minor": 0
      },
      "text/plain": [
       "  0%|          | Fitting SlidingEstimator : 0/1 [00:00<?,       ?it/s]"
      ]
     },
     "metadata": {},
     "output_type": "display_data"
    },
    {
     "data": {
      "application/vnd.jupyter.widget-view+json": {
       "model_id": "88a4fbfd34c345fc94f6417282b3cc7b",
       "version_major": 2,
       "version_minor": 0
      },
      "text/plain": [
       "  0%|          | Fitting SlidingEstimator : 0/1 [00:00<?,       ?it/s]"
      ]
     },
     "metadata": {},
     "output_type": "display_data"
    },
    {
     "data": {
      "application/vnd.jupyter.widget-view+json": {
       "model_id": "4b596397c0e34edc966eaa425a246e3f",
       "version_major": 2,
       "version_minor": 0
      },
      "text/plain": [
       "  0%|          | Fitting SlidingEstimator : 0/1 [00:00<?,       ?it/s]"
      ]
     },
     "metadata": {},
     "output_type": "display_data"
    },
    {
     "data": {
      "application/vnd.jupyter.widget-view+json": {
       "model_id": "c2129f4e5f06496ebdb96bf298703889",
       "version_major": 2,
       "version_minor": 0
      },
      "text/plain": [
       "  0%|          | Fitting SlidingEstimator : 0/1 [00:00<?,       ?it/s]"
      ]
     },
     "metadata": {},
     "output_type": "display_data"
    },
    {
     "data": {
      "application/vnd.jupyter.widget-view+json": {
       "model_id": "5e9ab651e34f422fadd005908abbdbf6",
       "version_major": 2,
       "version_minor": 0
      },
      "text/plain": [
       "  0%|          | Fitting SlidingEstimator : 0/1 [00:00<?,       ?it/s]"
      ]
     },
     "metadata": {},
     "output_type": "display_data"
    },
    {
     "data": {
      "application/vnd.jupyter.widget-view+json": {
       "model_id": "c9578cf9d7734b27b7f9d6a490af7fe7",
       "version_major": 2,
       "version_minor": 0
      },
      "text/plain": [
       "  0%|          | Fitting SlidingEstimator : 0/1 [00:00<?,       ?it/s]"
      ]
     },
     "metadata": {},
     "output_type": "display_data"
    },
    {
     "data": {
      "application/vnd.jupyter.widget-view+json": {
       "model_id": "d37a20f7910f462396dc06307dee06d6",
       "version_major": 2,
       "version_minor": 0
      },
      "text/plain": [
       "  0%|          | Fitting SlidingEstimator : 0/1 [00:00<?,       ?it/s]"
      ]
     },
     "metadata": {},
     "output_type": "display_data"
    }
   ],
   "source": [
    "clf = make_pipeline(StandardScaler(), LinearDiscriminantAnalysis())\n",
    "time_decod = SlidingEstimator(clf, n_jobs=None, scoring=\"balanced_accuracy\", verbose=True)\n",
    "\n",
    "for ii in range(len(ones_indices)):\n",
    "    str0 = list(epochs.event_id)[ones_indices[ii,0]]\n",
    "    str1 = list(epochs.event_id)[ones_indices[ii,1]]\n",
    "    \n",
    "    alldata = epochs[str0].get_data()\n",
    "    alldata = np.concatenate((alldata, epochs[str1].get_data()), axis=0)\n",
    "    \n",
    "    labelvec = np.append(np.zeros(epochs[str0].get_data().shape[0]),\n",
    "                            np.ones(epochs[str1].get_data().shape[0]))\n",
    "    \n",
    "    alldata = alldata.reshape(alldata.shape[0], alldata.shape[1]*alldata.shape[2],1) #maintain 3D array to “trick“ SlidingEstimator\n",
    "    \n",
    "    scores = cross_val_multiscore(time_decod, alldata, labelvec, cv=4, n_jobs=None)\n",
    "    \n",
    "    scoreMat[ones_indices[ii,1], ones_indices[ii,0]] = np.mean(scores)\n",
    "    "
   ]
  },
  {
   "cell_type": "markdown",
   "metadata": {},
   "source": [
    "We can now plot the dissimilarity matrix based on the MEG data!"
   ]
  },
  {
   "cell_type": "code",
   "execution_count": 6,
   "metadata": {},
   "outputs": [
    {
     "data": {
      "image/png": "[encoded data removed]",
      "text/plain": [
       "<Figure size 640x480 with 2 Axes>"
      ]
     },
     "metadata": {},
     "output_type": "display_data"
    }
   ],
   "source": [
    "ax = sns.heatmap(scoreMat, cmap='coolwarm', annot=True, vmin = .35, vmax = .65)\n",
    "ax.invert_yaxis()\n",
    "ax.invert_xaxis()\n",
    "\n",
    "plt.show()\n"
   ]
  },
  {
   "cell_type": "markdown",
   "metadata": {},
   "source": [
    "Now let's make 2 “conceptual“ models to check which one is better represented by our neural data:\n",
    "- the first model assumes that only the lowest two tones are differentiateted (mod0). This is “nonsensical“ for healthy, normal hearing individuals.\n",
    "- the second model assumes sounds the differenation will be stronger the further the carrier frequencyies are apart (mod1)"
   ]
  },
  {
   "cell_type": "code",
   "execution_count": 7,
   "metadata": {},
   "outputs": [
    {
     "data": {
      "image/png": "[encoded data removed]",
      "text/plain": [
       "<Figure size 640x480 with 4 Axes>"
      ]
     },
     "metadata": {},
     "output_type": "display_data"
    }
   ],
   "source": [
    "mod0 = np.tril(np.zeros((4,4)), -1)\n",
    "mod0[np.triu_indices(4)] = np.nan\n",
    "mod0[1,0] = 1 \n",
    "\n",
    "cfvec = np.log10(np.array([200, 431, 928, 2000]))\n",
    "\n",
    "#mod1 = np.subtract.outer(cfvec, cfvec)\n",
    "#mod1 = np.abs(diffs)\n",
    "\n",
    "mod1 = np.subtract.outer(cfvec, cfvec)\n",
    "mod1 = np.abs(mod1)  # Use mod1 i\n",
    "\n",
    "mod1[np.triu_indices(4)] = np.nan\n",
    "\n",
    "\n",
    "# Now plot\n",
    "\n",
    "f, axes = plt.subplots(1, 2)\n",
    "sns.heatmap(mod0, cmap='coolwarm', annot=True, vmin = 0, vmax = 1, ax = axes[0]).set(title = \"Model 0\")\n",
    "axes[0].invert_yaxis()\n",
    "axes[0].invert_xaxis()\n",
    "\n",
    "sns.heatmap(mod1, cmap='coolwarm', annot=True, vmin = 0, vmax = 1, ax = axes[1]).set(title = \"Model 1\")\n",
    "axes[1].invert_yaxis()\n",
    "axes[1].invert_xaxis()\n",
    "plt.show()\n",
    "\n"
   ]
  },
  {
   "cell_type": "markdown",
   "metadata": {},
   "source": [
    "To quantify which conceptual model is closer to our MEG data, let's perform a Spearman Rank Correlation."
   ]
  },
  {
   "cell_type": "code",
   "execution_count": 8,
   "metadata": {},
   "outputs": [
    {
     "name": "stdout",
     "output_type": "stream",
     "text": [
      "Spearman correlation between mod0 and scoreMat: -0.13093073414159545\n",
      "Spearman correlation between mod1 and scoreMat: 0.8857142857142858\n"
     ]
    }
   ],
   "source": [
    "# get non-NaN values from mod0 and scoreMat\n",
    "mod0_nonan = mod0[~np.isnan(scoreMat)]\n",
    "mod1_nonan = mod1[~np.isnan(scoreMat)]\n",
    "\n",
    "scoreMat_nonan = scoreMat[~np.isnan(scoreMat)] \n",
    "\n",
    "#we need to add a little variance to mod0 to make correlation calculation work\n",
    "#mod0_nonan = mod0_nonan + np.random.uniform(low=-0.000000000000001, high=0.000000000000001, size=len(mod0_nonan)) \n",
    "\n",
    "# calculate spearman correlation\n",
    "corr_mod0, pval = spearmanr(mod0_nonan, scoreMat_nonan)\n",
    "corr_mod1, pval = spearmanr(mod1_nonan, scoreMat_nonan)\n",
    "\n",
    "\n",
    "print(\"Spearman correlation between mod0 and scoreMat:\", corr_mod0)\n",
    "print(\"Spearman correlation between mod1 and scoreMat:\", corr_mod1)\n"
   ]
  },
  {
   "cell_type": "markdown",
   "metadata": {},
   "source": [
    "## RSA temporally resolved"
   ]
  },
  {
   "cell_type": "markdown",
   "metadata": {},
   "source": [
    "The similarity value above is static, but we have also got time information. So what we need is to have the neural RDM calculated per sampling point and then calcute the correlations fpr each time point."
   ]
  },
  {
   "cell_type": "code",
   "execution_count": 9,
   "metadata": {},
   "outputs": [
    {
     "data": {
      "application/vnd.jupyter.widget-view+json": {
       "model_id": "5acc0c3f1c1a4dbda27e08993c543be9",
       "version_major": 2,
       "version_minor": 0
      },
      "text/plain": [
       "  0%|          | Fitting SlidingEstimator : 0/71 [00:00<?,       ?it/s]"
      ]
     },
     "metadata": {},
     "output_type": "display_data"
    },
    {
     "data": {
      "application/vnd.jupyter.widget-view+json": {
       "model_id": "b4d2182a31c949558e00d470ea3d94dd",
       "version_major": 2,
       "version_minor": 0
      },
      "text/plain": [
       "  0%|          | Fitting SlidingEstimator : 0/71 [00:00<?,       ?it/s]"
      ]
     },
     "metadata": {},
     "output_type": "display_data"
    },
    {
     "data": {
      "application/vnd.jupyter.widget-view+json": {
       "model_id": "ba831c9b96bb40df9c863a5de9db5f93",
       "version_major": 2,
       "version_minor": 0
      },
      "text/plain": [
       "  0%|          | Fitting SlidingEstimator : 0/71 [00:00<?,       ?it/s]"
      ]
     },
     "metadata": {},
     "output_type": "display_data"
    },
    {
     "data": {
      "application/vnd.jupyter.widget-view+json": {
       "model_id": "bd28bd495d714b6d81b4e335c84eb1cf",
       "version_major": 2,
       "version_minor": 0
      },
      "text/plain": [
       "  0%|          | Fitting SlidingEstimator : 0/71 [00:00<?,       ?it/s]"
      ]
     },
     "metadata": {},
     "output_type": "display_data"
    },
    {
     "data": {
      "application/vnd.jupyter.widget-view+json": {
       "model_id": "1d79ef837a7949f3b6792195bfb271cf",
       "version_major": 2,
       "version_minor": 0
      },
      "text/plain": [
       "  0%|          | Fitting SlidingEstimator : 0/71 [00:00<?,       ?it/s]"
      ]
     },
     "metadata": {},
     "output_type": "display_data"
    },
    {
     "data": {
      "application/vnd.jupyter.widget-view+json": {
       "model_id": "0941e78eb5364205868651bb33c515a5",
       "version_major": 2,
       "version_minor": 0
      },
      "text/plain": [
       "  0%|          | Fitting SlidingEstimator : 0/71 [00:00<?,       ?it/s]"
      ]
     },
     "metadata": {},
     "output_type": "display_data"
    },
    {
     "data": {
      "application/vnd.jupyter.widget-view+json": {
       "model_id": "88c5dd8c85124008a5ef92309fea6616",
       "version_major": 2,
       "version_minor": 0
      },
      "text/plain": [
       "  0%|          | Fitting SlidingEstimator : 0/71 [00:00<?,       ?it/s]"
      ]
     },
     "metadata": {},
     "output_type": "display_data"
    },
    {
     "data": {
      "application/vnd.jupyter.widget-view+json": {
       "model_id": "1d9330e3b8f249ea94fdacb51b65b7cc",
       "version_major": 2,
       "version_minor": 0
      },
      "text/plain": [
       "  0%|          | Fitting SlidingEstimator : 0/71 [00:00<?,       ?it/s]"
      ]
     },
     "metadata": {},
     "output_type": "display_data"
    },
    {
     "data": {
      "application/vnd.jupyter.widget-view+json": {
       "model_id": "1c4a273f2fc344e9b5997f310865d434",
       "version_major": 2,
       "version_minor": 0
      },
      "text/plain": [
       "  0%|          | Fitting SlidingEstimator : 0/71 [00:00<?,       ?it/s]"
      ]
     },
     "metadata": {},
     "output_type": "display_data"
    },
    {
     "data": {
      "application/vnd.jupyter.widget-view+json": {
       "model_id": "face403d75c74c369345a8990dc57c1c",
       "version_major": 2,
       "version_minor": 0
      },
      "text/plain": [
       "  0%|          | Fitting SlidingEstimator : 0/71 [00:00<?,       ?it/s]"
      ]
     },
     "metadata": {},
     "output_type": "display_data"
    },
    {
     "data": {
      "application/vnd.jupyter.widget-view+json": {
       "model_id": "c09522c652da4b76acef58fd56a575af",
       "version_major": 2,
       "version_minor": 0
      },
      "text/plain": [
       "  0%|          | Fitting SlidingEstimator : 0/71 [00:00<?,       ?it/s]"
      ]
     },
     "metadata": {},
     "output_type": "display_data"
    },
    {
     "data": {
      "application/vnd.jupyter.widget-view+json": {
       "model_id": "d434361608e347bfabd927be61b81d7d",
       "version_major": 2,
       "version_minor": 0
      },
      "text/plain": [
       "  0%|          | Fitting SlidingEstimator : 0/71 [00:00<?,       ?it/s]"
      ]
     },
     "metadata": {},
     "output_type": "display_data"
    },
    {
     "data": {
      "application/vnd.jupyter.widget-view+json": {
       "model_id": "4c811125ad924ba3b5e0bb913e83d17b",
       "version_major": 2,
       "version_minor": 0
      },
      "text/plain": [
       "  0%|          | Fitting SlidingEstimator : 0/71 [00:00<?,       ?it/s]"
      ]
     },
     "metadata": {},
     "output_type": "display_data"
    },
    {
     "data": {
      "application/vnd.jupyter.widget-view+json": {
       "model_id": "fa2552e680de4dd7a7399b474b24a69b",
       "version_major": 2,
       "version_minor": 0
      },
      "text/plain": [
       "  0%|          | Fitting SlidingEstimator : 0/71 [00:00<?,       ?it/s]"
      ]
     },
     "metadata": {},
     "output_type": "display_data"
    },
    {
     "data": {
      "application/vnd.jupyter.widget-view+json": {
       "model_id": "d87d063361e84b3398adae0ee161bc59",
       "version_major": 2,
       "version_minor": 0
      },
      "text/plain": [
       "  0%|          | Fitting SlidingEstimator : 0/71 [00:00<?,       ?it/s]"
      ]
     },
     "metadata": {},
     "output_type": "display_data"
    },
    {
     "data": {
      "application/vnd.jupyter.widget-view+json": {
       "model_id": "7f775e46a944431aa1fa00086a9156ff",
       "version_major": 2,
       "version_minor": 0
      },
      "text/plain": [
       "  0%|          | Fitting SlidingEstimator : 0/71 [00:00<?,       ?it/s]"
      ]
     },
     "metadata": {},
     "output_type": "display_data"
    },
    {
     "data": {
      "application/vnd.jupyter.widget-view+json": {
       "model_id": "d1ab1a52cbdc434584b47fcdc33b0424",
       "version_major": 2,
       "version_minor": 0
      },
      "text/plain": [
       "  0%|          | Fitting SlidingEstimator : 0/71 [00:00<?,       ?it/s]"
      ]
     },
     "metadata": {},
     "output_type": "display_data"
    },
    {
     "data": {
      "application/vnd.jupyter.widget-view+json": {
       "model_id": "833c87112f874704aa5f5f013d2dd655",
       "version_major": 2,
       "version_minor": 0
      },
      "text/plain": [
       "  0%|          | Fitting SlidingEstimator : 0/71 [00:00<?,       ?it/s]"
      ]
     },
     "metadata": {},
     "output_type": "display_data"
    },
    {
     "data": {
      "application/vnd.jupyter.widget-view+json": {
       "model_id": "935ee2a7d47f4cb5bc5ba5cf912966b9",
       "version_major": 2,
       "version_minor": 0
      },
      "text/plain": [
       "  0%|          | Fitting SlidingEstimator : 0/71 [00:00<?,       ?it/s]"
      ]
     },
     "metadata": {},
     "output_type": "display_data"
    },
    {
     "data": {
      "application/vnd.jupyter.widget-view+json": {
       "model_id": "547a799874644473aac9b5653518a42b",
       "version_major": 2,
       "version_minor": 0
      },
      "text/plain": [
       "  0%|          | Fitting SlidingEstimator : 0/71 [00:00<?,       ?it/s]"
      ]
     },
     "metadata": {},
     "output_type": "display_data"
    },
    {
     "data": {
      "application/vnd.jupyter.widget-view+json": {
       "model_id": "b647100428ac4c7598264a0adee46520",
       "version_major": 2,
       "version_minor": 0
      },
      "text/plain": [
       "  0%|          | Fitting SlidingEstimator : 0/71 [00:00<?,       ?it/s]"
      ]
     },
     "metadata": {},
     "output_type": "display_data"
    },
    {
     "data": {
      "application/vnd.jupyter.widget-view+json": {
       "model_id": "67d628fa6c7f4138a307da7f64c6266c",
       "version_major": 2,
       "version_minor": 0
      },
      "text/plain": [
       "  0%|          | Fitting SlidingEstimator : 0/71 [00:00<?,       ?it/s]"
      ]
     },
     "metadata": {},
     "output_type": "display_data"
    },
    {
     "data": {
      "application/vnd.jupyter.widget-view+json": {
       "model_id": "1e83bf0e40f5470cad7d99e48b70c168",
       "version_major": 2,
       "version_minor": 0
      },
      "text/plain": [
       "  0%|          | Fitting SlidingEstimator : 0/71 [00:00<?,       ?it/s]"
      ]
     },
     "metadata": {},
     "output_type": "display_data"
    },
    {
     "data": {
      "application/vnd.jupyter.widget-view+json": {
       "model_id": "9ef0f1e4069b4716b2935aa6a290c0b9",
       "version_major": 2,
       "version_minor": 0
      },
      "text/plain": [
       "  0%|          | Fitting SlidingEstimator : 0/71 [00:00<?,       ?it/s]"
      ]
     },
     "metadata": {},
     "output_type": "display_data"
    }
   ],
   "source": [
    "#empty mat\n",
    "scoreMat = np.empty((4, 4, epochs[str0].get_data().shape[2]))\n",
    "scoreMat[:] = np.nan\n",
    "\n",
    "clf = make_pipeline(StandardScaler(), LinearDiscriminantAnalysis())\n",
    "time_decod = SlidingEstimator(clf, n_jobs=None, scoring=\"balanced_accuracy\", verbose=True)\n",
    "\n",
    "\n",
    "for ii in range(len(ones_indices)):\n",
    "    str0 = list(epochs.event_id)[ones_indices[ii,0]]\n",
    "    str1 = list(epochs.event_id)[ones_indices[ii,1]]\n",
    "    #print(str0, str1)\n",
    "    alldata = epochs[str0].get_data()\n",
    "    alldata = np.concatenate((alldata, epochs[str1].get_data()), axis=0)\n",
    "        \n",
    "    labelvec = np.append(np.zeros(epochs[str0].get_data().shape[0]),\n",
    "                                np.ones(epochs[str1].get_data().shape[0]))\n",
    "            \n",
    "    scores = cross_val_multiscore(time_decod, alldata, labelvec, cv=4, n_jobs=None)\n",
    "        \n",
    "    scoreMat[ones_indices[ii,1], ones_indices[ii,0], ] = np.mean(scores, axis=0)"
   ]
  },
  {
   "cell_type": "code",
   "execution_count": 10,
   "metadata": {},
   "outputs": [
    {
     "data": {
      "image/png": "[encoded data removed]",
      "text/plain": [
       "<Figure size 640x480 with 2 Axes>"
      ]
     },
     "metadata": {},
     "output_type": "display_data"
    }
   ],
   "source": [
    "# some random RDM\n",
    "ax = sns.heatmap(scoreMat[:,:,60], cmap='coolwarm', annot=True, vmin = .35, vmax = .65)\n",
    "ax.invert_yaxis()\n",
    "ax.invert_xaxis()\n",
    "\n",
    "plt.show()"
   ]
  },
  {
   "cell_type": "code",
   "execution_count": 12,
   "metadata": {},
   "outputs": [],
   "source": [
    "# compute correlation across time\n",
    "corrmod1_vec = []\n",
    "corrmod0_vec = []\n",
    "for i in range(scoreMat.shape[2]):\n",
    "    scoreMat_nonan = scoreMat[:,:,i][~np.isnan(scoreMat[:,:,i])]\n",
    "    mod1_nonan = mod1[~np.isnan(scoreMat[:,:,i])]\n",
    "    corr, pval = spearmanr(mod1_nonan, scoreMat_nonan)\n",
    "    corrmod1_vec.append(corr)\n",
    "    \n",
    "    mod0_nonan = mod0[~np.isnan(scoreMat[:,:,i])]\n",
    "    corr, pval = spearmanr(mod0_nonan, scoreMat_nonan)\n",
    "    corrmod0_vec.append(corr)\n",
    "    "
   ]
  },
  {
   "cell_type": "code",
   "execution_count": 13,
   "metadata": {},
   "outputs": [
    {
     "data": {
      "text/plain": [
       "<matplotlib.lines.Line2D at 0x167b73410>"
      ]
     },
     "execution_count": 13,
     "metadata": {},
     "output_type": "execute_result"
    },
    {
     "data": {
      "image/png": "[encoded data removed]",
      "text/plain": [
       "<Figure size 640x480 with 1 Axes>"
      ]
     },
     "metadata": {},
     "output_type": "display_data"
    }
   ],
   "source": [
    "plt.plot(epochs.times, corrmod0_vec, label = 'Model 0')\n",
    "plt.plot(epochs.times, corrmod1_vec, color = 'red', label = 'Model 1')\n",
    "plt.ylim(-1, 1)\n",
    "plt.xlim(-.1, .33)\n",
    "plt.legend(fontsize=12)\n",
    "plt.axhline(y=0, color='black', linestyle='--')\n"
   ]
  },
  {
   "cell_type": "markdown",
   "metadata": {},
   "source": [
    "## Another example - from Andreas Wutz & Fabian Schmidt"
   ]
  },
  {
   "cell_type": "markdown",
   "metadata": {},
   "source": [
    "This study builds on a work by our group ([Sanchez et al., 2020](https://www.pnas.org/doi/abs/10.1073/pnas.1912584117)) in which we implemented 3 near threshold experiments in the auditory, visual and somatosensory modality respectively, and used MEG to assess whether neural patterns indicating conscious perception can be generalized across sensory modalities.\n",
    "\n",
    "![Design Sanchez](https://www.pnas.org/cms/10.1073/pnas.1912584117/asset/326a4978-40cc-4c03-9bdd-dff55b0b8399/assets/graphic/pnas.1912584117fig01.jpeg)\n",
    "\n",
    "\n",
    "The using time- and condition-generalized decoding Sanchez et al. could show that ~>200ms a wide network of brain regions contain information on whether a stimulus is consciously perceived no matter which senors modality.\n",
    "\n",
    "![Main Finding Sanchez](https://www.pnas.org/cms/10.1073/pnas.1912584117/asset/32a1719b-016a-4691-8ce0-22ff0e27522d/assets/graphic/pnas.1912584117fig05.jpeg)\n",
    "\n",
    "In a current project a very similar experiment is implemented and will be used in MEG and fMRI. The goal is to merge both sources of data using RSA."
   ]
  },
  {
   "cell_type": "markdown",
   "metadata": {},
   "source": [
    "Here we use the RDMs provised by Fabian Schmidt and Andreas Wutz of their preliminary data."
   ]
  },
  {
   "cell_type": "code",
   "execution_count": 18,
   "metadata": {},
   "outputs": [
    {
     "data": {
      "text/plain": [
       "(606, 276)"
      ]
     },
     "execution_count": 18,
     "metadata": {},
     "output_type": "execute_result"
    }
   ],
   "source": [
    "supramoddata = np.load(\"/Users/b1019548/onedrive/Teaching/Master_VO_MethodsCogNeuro/Lectures/Lecture4_RSA/data/rsa4nathan.npy\")\n",
    "supramoddata.shape"
   ]
  },
  {
   "cell_type": "markdown",
   "metadata": {},
   "source": [
    "The data contains the RDMs 6 participants at 101 time points (100 Hz sampling starting at 0s). These are contained in the row of *supramoddata*. The colums are the actual RDM data (24 x 24 matrix), that have been flattened and in which the diagonal is 0. The original RDM is a 24 x 24 matrix, with 3 modalities (auditory, visual, somatosensory), 2 perceptual states (hits / miss), and 4 stimulus levels.\n",
    "\n",
    "We will first, for the sake of ease average over all participants."
   ]
  },
  {
   "cell_type": "code",
   "execution_count": 19,
   "metadata": {},
   "outputs": [],
   "source": [
    "# split data so that subjects are in rows\n",
    "supramoddata_split = supramoddata.reshape(-1, 101, supramoddata.shape[1])\n",
    "\n",
    "# calculate the average across all subjects\n",
    "supramoddata_avg = np.mean(supramoddata_split, axis=0)\n"
   ]
  },
  {
   "cell_type": "markdown",
   "metadata": {},
   "source": [
    "Let's have a function that plots the RDMs averaged over a selected time-slice."
   ]
  },
  {
   "cell_type": "code",
   "execution_count": 20,
   "metadata": {},
   "outputs": [],
   "source": [
    "def plot_fabi_RDM(supramoddata = supramoddata, starttime = 0, endtime = 1000):\n",
    "\n",
    "    startsamp = int(np.round(starttime/10))\n",
    "    endsamp =int(np.round(endtime/10))\n",
    "    \n",
    "    test = np.mean(supramoddata[startsamp:endsamp,:], axis = 0)\n",
    "\n",
    "    # get shape of original matrix\n",
    "    n = int(np.sqrt(2 * len(test))) + 1\n",
    "\n",
    "    # get indices of upper triangular part\n",
    "    tri_indices = np.triu_indices(n, k=1)\n",
    "\n",
    "    # create 2D array of zeros\n",
    "    matrix = np.zeros((n, n))\n",
    "\n",
    "    # assign flattened array to upper triangular part\n",
    "    matrix[tri_indices] = test\n",
    "\n",
    "    # copy upper triangular part to lower triangular part\n",
    "    matrix = matrix + matrix.T\n",
    "\n",
    "    zlim = np.max(np.abs(matrix)) * .9\n",
    "    ax = sns.heatmap(matrix, cmap='coolwarm', vmin = -zlim, vmax = zlim)\n",
    "    ax.invert_yaxis()\n",
    "    ax.invert_xaxis()\n",
    "\n",
    "    plt.show()\n"
   ]
  },
  {
   "cell_type": "markdown",
   "metadata": {},
   "source": [
    "Try a few time slices!"
   ]
  },
  {
   "cell_type": "code",
   "execution_count": 21,
   "metadata": {},
   "outputs": [
    {
     "data": {
      "image/png": "[encoded data removed]",
      "text/plain": [
       "<Figure size 640x480 with 2 Axes>"
      ]
     },
     "metadata": {},
     "output_type": "display_data"
    }
   ],
   "source": [
    "plot_fabi_RDM(starttime = 200, endtime = 300)"
   ]
  },
  {
   "cell_type": "markdown",
   "metadata": {},
   "source": [
    "We will now create two conceptual models. One in which low-level processing within a modality is emphasized. Another in which conscious perception is emphasized."
   ]
  },
  {
   "cell_type": "code",
   "execution_count": 22,
   "metadata": {},
   "outputs": [],
   "source": [
    "#Modalities Auditory, Somatosensory, Visual\n",
    "modality_vec = np.concatenate([np.zeros((1,8)), np.ones((1,8)), np.ones((1,8))*2])\n",
    "modality_vec = modality_vec.flatten()\n",
    "\n",
    "#Stimulus number ... 4 per modality sorted accourding to dissimilarity\n",
    "stim_vec = np.tile(np.array(np.array(np.arange(1,5))).flatten(), 6)\n",
    "#stim_vec = stim_vec.flatten()\n",
    "\n",
    "#Behaviour: Hits and miss\n",
    "perc_vec = np.tile(np.concatenate([np.zeros((1,4)), np.ones((1,4))]).flatten(), 3)\n",
    "\n",
    "data = {'Modality': modality_vec,\n",
    "        'Perceived': perc_vec,\n",
    "        'Stimulus': stim_vec}\n",
    "\n",
    "concept_df = pd.DataFrame(data)\n"
   ]
  },
  {
   "cell_type": "code",
   "execution_count": 23,
   "metadata": {},
   "outputs": [],
   "source": [
    "ConsciousMat = np.zeros((len(concept_df), len(concept_df)))\n",
    "SensoryMat = np.zeros((len(concept_df), len(concept_df)))\n",
    "\n",
    "for ii in range(0,len(concept_df)):\n",
    "    for kk in range(0,len(concept_df)):\n",
    "        \n",
    "        #make the supramodal model\n",
    "        if concept_df[\"Perceived\"].iloc[ii] == concept_df[\"Perceived\"].iloc[kk]:\n",
    "            ConsciousMat[ii, kk] = 0\n",
    "        else:\n",
    "            ConsciousMat[ii, kk] = 1\n",
    "        \n",
    "        #make the sensory model    \n",
    "        if concept_df[\"Modality\"].iloc[ii] == concept_df[\"Modality\"].iloc[kk]:\n",
    "            SensoryMat[ii, kk] = np.abs(concept_df[\"Stimulus\"].iloc[ii] - concept_df[\"Stimulus\"].iloc[kk]) / 4\n",
    "        else:\n",
    "            SensoryMat[ii, kk] = 1\n",
    "        \n",
    "SensoryMat = SensoryMat\n"
   ]
  },
  {
   "cell_type": "markdown",
   "metadata": {},
   "source": [
    "We can now plot these models!"
   ]
  },
  {
   "cell_type": "code",
   "execution_count": 24,
   "metadata": {},
   "outputs": [
    {
     "data": {
      "image/png": "[encoded data removed]",
      "text/plain": [
       "<Figure size 640x480 with 4 Axes>"
      ]
     },
     "metadata": {},
     "output_type": "display_data"
    }
   ],
   "source": [
    "f, axes = plt.subplots(1, 2)\n",
    "sns.heatmap(SensoryMat, cmap='coolwarm', vmin = 0, vmax = 1, ax = axes[0]).set(title = \"Sensory Model\")\n",
    "axes[0].invert_yaxis()\n",
    "axes[0].invert_xaxis()\n",
    "\n",
    "sns.heatmap(ConsciousMat, cmap='coolwarm', vmin = 0, vmax = 1, ax = axes[1]).set(title = \"Consciousness Model\")\n",
    "axes[1].invert_yaxis()\n",
    "axes[1].invert_xaxis()\n",
    "plt.show()"
   ]
  },
  {
   "cell_type": "code",
   "execution_count": 25,
   "metadata": {},
   "outputs": [],
   "source": [
    "def get_corrs_fabi(supramoddata = supramoddata_avg, modelMat = SensoryMat):\n",
    "    \n",
    "    corr_vec = []\n",
    "    tri_inds = np.triu_indices(modelMat.shape[0], k=1)\n",
    "    \n",
    "    for ii in range(0, supramoddata.shape[0]):\n",
    "        corr, pval = spearmanr(supramoddata[ii,:], modelMat[tri_inds])\n",
    "        corr_vec.append(corr)\n",
    "    \n",
    "    return corr_vec"
   ]
  },
  {
   "cell_type": "code",
   "execution_count": 26,
   "metadata": {},
   "outputs": [],
   "source": [
    "sensory_RSA = get_corrs_fabi(modelMat = SensoryMat)\n",
    "conscious_RSA = get_corrs_fabi(modelMat = ConsciousMat)"
   ]
  },
  {
   "cell_type": "code",
   "execution_count": 27,
   "metadata": {},
   "outputs": [
    {
     "data": {
      "text/plain": [
       "<matplotlib.lines.Line2D at 0x1687f1810>"
      ]
     },
     "execution_count": 27,
     "metadata": {},
     "output_type": "execute_result"
    },
    {
     "data": {
      "image/png": "[encoded data removed]",
      "text/plain": [
       "<Figure size 640x480 with 1 Axes>"
      ]
     },
     "metadata": {},
     "output_type": "display_data"
    }
   ],
   "source": [
    "plt.plot(np.arange(0,len(sensory_RSA)) / 100, sensory_RSA, label = 'Sensory Model')\n",
    "plt.plot(np.arange(0,len(conscious_RSA)) / 100, conscious_RSA , color = 'red', label = 'Consciousness Model')\n",
    "plt.ylim(-1, 1)\n",
    "plt.xlabel(\"Time (s)\")\n",
    "plt.ylabel(\"Spearman rho\")\n",
    "plt.legend(fontsize=12)\n",
    "plt.axhline(y=0, color='black', linestyle='--')"
   ]
  }
 ],
 "metadata": {
  "kernelspec": {
   "display_name": "Python 3",
   "language": "python",
   "name": "python3"
  },
  "language_info": {
   "codemirror_mode": {
    "name": "ipython",
    "version": 3
   },
   "file_extension": ".py",
   "mimetype": "text/x-python",
   "name": "python",
   "nbconvert_exporter": "python",
   "pygments_lexer": "ipython3",
   "version": "3.11.6"
  }
 },
 "nbformat": 4,
 "nbformat_minor": 2
}
